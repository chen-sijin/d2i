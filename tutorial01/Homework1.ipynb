{
 "cells": [
  {
   "cell_type": "code",
   "execution_count": 89,
   "id": "5fcbf0be-120a-4fa3-8834-bebbaeb0ac63",
   "metadata": {},
   "outputs": [],
   "source": [
    "import numpy as np \n",
    "import matplotlib.pyplot as plt \n",
    "\n",
    "import scipy\n",
    "import math"
   ]
  },
  {
   "cell_type": "code",
   "execution_count": 90,
   "id": "950a67c8-fff0-4ac1-aa94-0b976a230b2c",
   "metadata": {},
   "outputs": [
    {
     "name": "stdout",
     "output_type": "stream",
     "text": [
      "(10000,)\n",
      "[ 1.11490901  1.1882115   1.41804512 -0.36769038  0.24881411  0.38049812\n",
      "  0.6352939  -1.09419838  0.44031896 -0.84903172]\n"
     ]
    }
   ],
   "source": [
    "mu = 0\n",
    "sigma = 1\n",
    "np.random.seed(114514)\n",
    "x= np.random.normal(mu, sigma, 10000)\n",
    "print(x.shape)\n",
    "print(x[:10])"
   ]
  },
  {
   "cell_type": "code",
   "execution_count": 91,
   "id": "528d5724-fc23-42df-b070-c3a8ab2385dd",
   "metadata": {},
   "outputs": [],
   "source": [
    "# plt.hist(s, density = True, bins = np.arange(-5.5, 6, 0.1), edgecolor = \"black\")"
   ]
  },
  {
   "cell_type": "code",
   "execution_count": 92,
   "id": "fcd749dd-d0d3-427a-98a7-6aba1ea207a1",
   "metadata": {
    "tags": []
   },
   "outputs": [],
   "source": [
    "def poly(x, n, lam):\n",
    "    phi = np.zeros(n)\n",
    "    summation = 0.0\n",
    "    for i in range(n):\n",
    "        expectation = np.mean(x**i)/math.factorial(i) *lam**i\n",
    "        summation += expectation\n",
    "        phi[i] = summation\n",
    "    return phi\n",
    "\n",
    "\n",
    "                                                    "
   ]
  },
  {
   "cell_type": "code",
   "execution_count": 93,
   "id": "d657c83a-9a3c-4171-a48f-21e87a2b79f8",
   "metadata": {
    "tags": []
   },
   "outputs": [
    {
     "name": "stdout",
     "output_type": "stream",
     "text": [
      "(10000,)\n",
      "[ 1.11490901  1.1882115   1.41804512 -0.36769038  0.24881411  0.38049812\n",
      "  0.6352939  -1.09419838  0.44031896 -0.84903172]\n"
     ]
    }
   ],
   "source": [
    "mu = 0\n",
    "sigma = 1\n",
    "np.random.seed(114514)\n",
    "x= np.random.normal(mu, sigma, 10000)\n",
    "print(x.shape)\n",
    "print(x[:10])\n",
    "lam = 10\n",
    "\n",
    "\n"
   ]
  },
  {
   "cell_type": "code",
   "execution_count": 94,
   "id": "5ffed9bf-5d68-47f5-95d0-b715d628c5e1",
   "metadata": {
    "tags": []
   },
   "outputs": [],
   "source": [
    "phi = poly(x, 100, lam)"
   ]
  },
  {
   "cell_type": "code",
   "execution_count": 95,
   "id": "607a44e5-02f9-40bc-870d-0e2d38e54e9f",
   "metadata": {
    "tags": []
   },
   "outputs": [
    {
     "name": "stdout",
     "output_type": "stream",
     "text": [
      "[1.00000000e+00 1.15248952e+00 5.07376536e+01 6.00364113e+01\n",
      " 1.28827182e+03 1.68070792e+03 2.20967602e+04 3.40895255e+04\n",
      " 2.90235856e+05 5.34916734e+05 3.10572901e+06 6.54407375e+06\n",
      " 2.78501750e+07 6.29289085e+07 2.11059209e+08 4.82736788e+08\n",
      " 1.35172211e+09 3.00488442e+09 7.31419110e+09 1.54304203e+10\n",
      " 3.35346233e+10 6.63638900e+10 1.31070427e+11 2.42344152e+11\n",
      " 4.40288678e+11 7.60801311e+11 1.28281627e+12 2.07673323e+12\n",
      " 3.27255035e+12 4.98105806e+12 7.37855383e+12 1.06013733e+13\n",
      " 1.48386068e+13 2.02093916e+13 2.68552895e+13 3.48177862e+13\n",
      " 4.41259473e+13 5.46936523e+13 6.64017145e+13 7.90279389e+13\n",
      " 9.23227358e+13 1.05972935e+14 1.19666879e+14 1.33081834e+14\n",
      " 1.45932579e+14 1.57968044e+14 1.68999413e+14 1.78895106e+14\n",
      " 1.87589559e+14 1.95072829e+14 2.01386085e+14 2.06608020e+14\n",
      " 2.10844830e+14 2.14217649e+14 2.16853226e+14 2.18875352e+14\n",
      " 2.20399231e+14 2.21527528e+14 2.22348580e+14 2.22935945e+14\n",
      " 2.23349153e+14 2.23635085e+14 2.23829762e+14 2.23960206e+14\n",
      " 2.24046248e+14 2.24102130e+14 2.24137875e+14 2.24160398e+14\n",
      " 2.24174382e+14 2.24182939e+14 2.24188099e+14 2.24191168e+14\n",
      " 2.24192968e+14 2.24194008e+14 2.24194602e+14 2.24194937e+14\n",
      " 2.24195122e+14 2.24195224e+14 2.24195279e+14 2.24195309e+14\n",
      " 2.24195324e+14 2.24195332e+14 2.24195337e+14 2.24195339e+14\n",
      " 2.24195340e+14 2.24195340e+14 2.24195341e+14 2.24195341e+14\n",
      " 2.24195341e+14 2.24195341e+14 2.24195341e+14 2.24195341e+14\n",
      " 2.24195341e+14 2.24195341e+14 2.24195341e+14 2.24195341e+14\n",
      " 2.24195341e+14 2.24195341e+14 2.24195341e+14 2.24195341e+14]\n"
     ]
    }
   ],
   "source": [
    "print(phi)"
   ]
  },
  {
   "cell_type": "code",
   "execution_count": 88,
   "id": "6a70c054-0325-4924-a5cc-5cfb0417e5cc",
   "metadata": {
    "tags": []
   },
   "outputs": [
    {
     "data": {
      "image/png": "[encoded data removed]",
      "text/plain": [
       "<Figure size 640x480 with 1 Axes>"
      ]
     },
     "metadata": {},
     "output_type": "display_data"
    }
   ],
   "source": [
    "x_range = np.arange(100)\n",
    "\n",
    "plt.plot(x_range, phi, label = \"Expansion\")\n",
    "\n",
    "\n",
    "plt.hlines(xmin=np.min(x_range), xmax=np.max(x_range), y=np.mean(np.exp(lam*x)), \n",
    "           linestyle = \"dashed\", color = 'orange', label=\"$exp(\\lambda X)$\")\n",
    "\n",
    "plt.xlabel('$n-th$ order expansion')\n",
    "# plt.xlim(0, 20)\n",
    "plt.text(x=60, y=1.3, s=f\"$\\lambda ={lam}$, $\\mu = {mu}$, $\\sigma = {sigma}$\")\n",
    "# plt.yscale('log')0\n",
    "plt.legend(loc=\"center right\")\n",
    "plt.savefig('3.png')\n",
    "\n"
   ]
  },
  {
   "cell_type": "code",
   "execution_count": 42,
   "id": "d83a674f-eee5-4142-8da5-d1c1fd534f29",
   "metadata": {
    "tags": []
   },
   "outputs": [
    {
     "data": {
      "text/plain": [
       "\u001b[0;31mSignature:\u001b[0m \u001b[0mplt\u001b[0m\u001b[0;34m.\u001b[0m\u001b[0mtext\u001b[0m\u001b[0;34m(\u001b[0m\u001b[0mx\u001b[0m\u001b[0;34m,\u001b[0m \u001b[0my\u001b[0m\u001b[0;34m,\u001b[0m \u001b[0ms\u001b[0m\u001b[0;34m,\u001b[0m \u001b[0mfontdict\u001b[0m\u001b[0;34m=\u001b[0m\u001b[0;32mNone\u001b[0m\u001b[0;34m,\u001b[0m \u001b[0;34m**\u001b[0m\u001b[0mkwargs\u001b[0m\u001b[0;34m)\u001b[0m\u001b[0;34m\u001b[0m\u001b[0;34m\u001b[0m\u001b[0m\n",
       "\u001b[0;31mDocstring:\u001b[0m\n",
       "Add text to the Axes.\n",
       "\n",
       "Add the text *s* to the Axes at location *x*, *y* in data coordinates.\n",
       "\n",
       "Parameters\n",
       "----------\n",
       "x, y : float\n",
       "    The position to place the text. By default, this is in data\n",
       "    coordinates. The coordinate system can be changed using the\n",
       "    *transform* parameter.\n",
       "\n",
       "s : str\n",
       "    The text.\n",
       "\n",
       "fontdict : dict, default: None\n",
       "    A dictionary to override the default text properties. If fontdict\n",
       "    is None, the defaults are determined by `.rcParams`.\n",
       "\n",
       "Returns\n",
       "-------\n",
       "`.Text`\n",
       "    The created `.Text` instance.\n",
       "\n",
       "Other Parameters\n",
       "----------------\n",
       "**kwargs : `~matplotlib.text.Text` properties.\n",
       "    Other miscellaneous text parameters.\n",
       "\n",
       "    Properties:\n",
       "    agg_filter: a filter function, which takes a (m, n, 3) float array and a dpi value, and returns a (m, n, 3) array and two offsets from the bottom left corner of the image\n",
       "    alpha: scalar or None\n",
       "    animated: bool\n",
       "    backgroundcolor: color\n",
       "    bbox: dict with properties for `.patches.FancyBboxPatch`\n",
       "    clip_box: unknown\n",
       "    clip_on: unknown\n",
       "    clip_path: unknown\n",
       "    color or c: color\n",
       "    figure: `.Figure`\n",
       "    fontfamily or family: {FONTNAME, 'serif', 'sans-serif', 'cursive', 'fantasy', 'monospace'}\n",
       "    fontproperties or font or font_properties: `.font_manager.FontProperties` or `str` or `pathlib.Path`\n",
       "    fontsize or size: float or {'xx-small', 'x-small', 'small', 'medium', 'large', 'x-large', 'xx-large'}\n",
       "    fontstretch or stretch: {a numeric value in range 0-1000, 'ultra-condensed', 'extra-condensed', 'condensed', 'semi-condensed', 'normal', 'semi-expanded', 'expanded', 'extra-expanded', 'ultra-expanded'}\n",
       "    fontstyle or style: {'normal', 'italic', 'oblique'}\n",
       "    fontvariant or variant: {'normal', 'small-caps'}\n",
       "    fontweight or weight: {a numeric value in range 0-1000, 'ultralight', 'light', 'normal', 'regular', 'book', 'medium', 'roman', 'semibold', 'demibold', 'demi', 'bold', 'heavy', 'extra bold', 'black'}\n",
       "    gid: str\n",
       "    horizontalalignment or ha: {'left', 'center', 'right'}\n",
       "    in_layout: bool\n",
       "    label: object\n",
       "    linespacing: float (multiple of font size)\n",
       "    math_fontfamily: str\n",
       "    mouseover: bool\n",
       "    multialignment or ma: {'left', 'right', 'center'}\n",
       "    parse_math: bool\n",
       "    path_effects: `.AbstractPathEffect`\n",
       "    picker: None or bool or float or callable\n",
       "    position: (float, float)\n",
       "    rasterized: bool\n",
       "    rotation: float or {'vertical', 'horizontal'}\n",
       "    rotation_mode: {None, 'default', 'anchor'}\n",
       "    sketch_params: (scale: float, length: float, randomness: float)\n",
       "    snap: bool or None\n",
       "    text: object\n",
       "    transform: `.Transform`\n",
       "    transform_rotates_text: bool\n",
       "    url: str\n",
       "    usetex: bool or None\n",
       "    verticalalignment or va: {'bottom', 'baseline', 'center', 'center_baseline', 'top'}\n",
       "    visible: bool\n",
       "    wrap: bool\n",
       "    x: float\n",
       "    y: float\n",
       "    zorder: float\n",
       "\n",
       "Examples\n",
       "--------\n",
       "Individual keyword arguments can be used to override any given\n",
       "parameter::\n",
       "\n",
       "    >>> text(x, y, s, fontsize=12)\n",
       "\n",
       "The default transform specifies that text is in data coords,\n",
       "alternatively, you can specify text in axis coords ((0, 0) is\n",
       "lower-left and (1, 1) is upper-right).  The example below places\n",
       "text in the center of the Axes::\n",
       "\n",
       "    >>> text(0.5, 0.5, 'matplotlib', horizontalalignment='center',\n",
       "    ...      verticalalignment='center', transform=ax.transAxes)\n",
       "\n",
       "You can put a rectangular box around the text instance (e.g., to\n",
       "set a background color) by using the keyword *bbox*.  *bbox* is\n",
       "a dictionary of `~matplotlib.patches.Rectangle`\n",
       "properties.  For example::\n",
       "\n",
       "    >>> text(x, y, s, bbox=dict(facecolor='red', alpha=0.5))\n",
       "\u001b[0;31mFile:\u001b[0m      /software/opt/el_9/x86_64/python/3.11-2023.09/lib/python3.11/site-packages/matplotlib/pyplot.py\n",
       "\u001b[0;31mType:\u001b[0m      function"
      ]
     },
     "metadata": {},
     "output_type": "display_data"
    }
   ],
   "source": [
    "?plt.text\n"
   ]
  },
  {
   "cell_type": "code",
   "execution_count": null,
   "id": "dabca8f5-4d49-4abb-939a-7d97a5e28355",
   "metadata": {},
   "outputs": [],
   "source": []
  },
  {
   "cell_type": "code",
   "execution_count": null,
   "id": "8757f28a-6604-4d62-888c-b8345fc4d055",
   "metadata": {},
   "outputs": [],
   "source": []
  },
  {
   "cell_type": "markdown",
   "id": "cd7b36dc-f486-4a7d-acdb-1425d1c02245",
   "metadata": {},
   "source": [
    "## Central Limit Theorem"
   ]
  },
  {
   "cell_type": "code",
   "execution_count": 4,
   "id": "638889fe-1988-40b1-9f03-64361dad9d5f",
   "metadata": {},
   "outputs": [],
   "source": [
    "final = np.zeros(10000)\n",
    "\n",
    "for i in range(len(final)):\n",
    "    a = np.mean(np.random.rand(10000))\n",
    "    final[i] = a \n"
   ]
  },
  {
   "cell_type": "code",
   "execution_count": 5,
   "id": "91d91844-69ec-4e31-9a0d-5e44638ba6fd",
   "metadata": {},
   "outputs": [
    {
     "data": {
      "text/plain": [
       "Text(0.5, 1.0, 'Uniform Distribution')"
      ]
     },
     "execution_count": 5,
     "metadata": {},
     "output_type": "execute_result"
    },
    {
     "data": {
      "image/png": "[encoded data removed]",
      "text/plain": [
       "<Figure size 640x480 with 1 Axes>"
      ]
     },
     "metadata": {},
     "output_type": "display_data"
    }
   ],
   "source": [
    "plt.hist(final, density = True)\n",
    "plt.title('Uniform Distribution')"
   ]
  },
  {
   "cell_type": "code",
   "execution_count": null,
   "id": "276790cb-1db5-47db-a83b-8bafc33d2b42",
   "metadata": {},
   "outputs": [],
   "source": []
  },
  {
   "cell_type": "code",
   "execution_count": null,
   "id": "0fa9499c-48fd-4a9c-93e2-5e4f3719ec71",
   "metadata": {},
   "outputs": [],
   "source": []
  },
  {
   "cell_type": "code",
   "execution_count": null,
   "id": "b8b157b7-af5b-43c5-9608-49316f939d95",
   "metadata": {},
   "outputs": [],
   "source": []
  },
  {
   "cell_type": "code",
   "execution_count": null,
   "id": "ef349f8e-f2d2-4f40-a1f5-f9754e8833a7",
   "metadata": {},
   "outputs": [],
   "source": []
  }
 ],
 "metadata": {
  "kernelspec": {
   "display_name": "Python 3 (ipykernel)",
   "language": "python",
   "name": "python3"
  },
  "language_info": {
   "codemirror_mode": {
    "name": "ipython",
    "version": 3
   },
   "file_extension": ".py",
   "mimetype": "text/x-python",
   "name": "python",
   "nbconvert_exporter": "python",
   "pygments_lexer": "ipython3",
   "version": "3.11.5"
  }
 },
 "nbformat": 4,
 "nbformat_minor": 5
}

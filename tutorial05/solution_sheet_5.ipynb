{
 "cells": [
  {
   "cell_type": "code",
   "execution_count": 1,
   "id": "2a85dae0-cfc2-4650-92cc-383180af437a",
   "metadata": {
    "tags": []
   },
   "outputs": [],
   "source": [
    "import numpy as np\n",
    "import matplotlib.pyplot as plt"
   ]
  },
  {
   "cell_type": "code",
   "execution_count": 2,
   "id": "327e23a3-b8e7-423a-96d5-4b89b2b04540",
   "metadata": {
    "tags": []
   },
   "outputs": [],
   "source": [
    "rng=np.random.default_rng(42)"
   ]
  },
  {
   "cell_type": "markdown",
   "id": "bbca4102-e2a5-4b1c-a93e-dcd03b3b0819",
   "metadata": {},
   "source": [
    "# 5.3 Bayes==frequentist?"
   ]
  },
  {
   "cell_type": "markdown",
   "id": "41473f2a-b6dc-4c2d-8fbf-6801f6799683",
   "metadata": {},
   "source": [
    "## mean and covar"
   ]
  },
  {
   "cell_type": "code",
   "execution_count": 3,
   "id": "174c621d-cf5a-44b9-9774-74bb68a45963",
   "metadata": {
    "tags": []
   },
   "outputs": [],
   "source": [
    "ndim=5\n",
    "mu0=np.array([1,5,2,7,2])"
   ]
  },
  {
   "cell_type": "code",
   "execution_count": 4,
   "id": "ba240d9a-c469-4303-af5a-7b0e825df7fb",
   "metadata": {
    "tags": []
   },
   "outputs": [],
   "source": [
    "Corr=rng.uniform(low=-0.1,high=0.1,size=[ndim,ndim])\n",
    "Corr+=Corr.T\n",
    "np.fill_diagonal(Corr,1)\n",
    "sigmas=rng.uniform(low=1e-3,high=1,size=ndim)\n",
    "Cov=np.einsum('ij,i,j->ij',Corr,sigmas,sigmas)"
   ]
  },
  {
   "cell_type": "code",
   "execution_count": 5,
   "id": "2b750265-01c5-4c6e-811c-46e5e0d52e63",
   "metadata": {
    "tags": []
   },
   "outputs": [
    {
     "data": {
      "text/plain": [
       "array([1, 5, 2, 7, 2])"
      ]
     },
     "execution_count": 5,
     "metadata": {},
     "output_type": "execute_result"
    }
   ],
   "source": [
    "mu0"
   ]
  },
  {
   "cell_type": "code",
   "execution_count": 6,
   "id": "ae0cba4b-5728-4b5f-976a-9843757b22cd",
   "metadata": {
    "tags": []
   },
   "outputs": [
    {
     "data": {
      "text/plain": [
       "array([[ 3.81983842e-02,  7.57061475e-03,  4.01354315e-04,\n",
       "        -4.57188512e-04, -3.94628945e-03],\n",
       "       [ 7.57061475e-03,  2.18326565e-01,  2.98166285e-03,\n",
       "        -4.60008523e-03, -1.24585460e-02],\n",
       "       [ 4.01354315e-04,  2.98166285e-03,  2.00345420e-03,\n",
       "        -1.57515768e-04,  2.53332589e-03],\n",
       "       [-4.57188512e-04, -4.60008523e-03, -1.57515768e-04,\n",
       "         2.40669311e-02,  1.11269338e-02],\n",
       "       [-3.94628945e-03, -1.24585460e-02,  2.53332589e-03,\n",
       "         1.11269338e-02,  4.66988959e-01]])"
      ]
     },
     "execution_count": 6,
     "metadata": {},
     "output_type": "execute_result"
    }
   ],
   "source": [
    "Cov"
   ]
  },
  {
   "cell_type": "markdown",
   "id": "23f3816c-f701-469a-b25c-cc656a9dac74",
   "metadata": {},
   "source": [
    "## generate 1000 universes and v for the holy book"
   ]
  },
  {
   "cell_type": "code",
   "execution_count": 7,
   "id": "17718a56-11c3-43b9-9b19-ad1ae601ce3c",
   "metadata": {
    "tags": []
   },
   "outputs": [],
   "source": [
    "nuniverses=100000\n",
    "universes=rng.multivariate_normal(mu0,Cov,size=nuniverses)"
   ]
  },
  {
   "cell_type": "code",
   "execution_count": 8,
   "id": "6bafa8d7-8d64-4966-a667-2b482c5331b2",
   "metadata": {
    "tags": []
   },
   "outputs": [
    {
     "data": {
      "text/plain": [
       "(100000, 5)"
      ]
     },
     "execution_count": 8,
     "metadata": {},
     "output_type": "execute_result"
    }
   ],
   "source": [
    "universes.shape"
   ]
  },
  {
   "cell_type": "code",
   "execution_count": 9,
   "id": "48408872-a548-4536-807f-f79d6b295d66",
   "metadata": {
    "tags": []
   },
   "outputs": [],
   "source": [
    "v=np.array([0.4,3,0.5,1,2])\n",
    "alpha_range=1"
   ]
  },
  {
   "cell_type": "markdown",
   "id": "a36da77b-861c-4190-8357-81ac76bc00dc",
   "metadata": {},
   "source": [
    "## become human"
   ]
  },
  {
   "cell_type": "code",
   "execution_count": 10,
   "id": "faca1197-b09b-4ca0-92b6-8490047da9e7",
   "metadata": {
    "tags": []
   },
   "outputs": [],
   "source": [
    "def model(alpha):\n",
    "    mu_alph=mu0[:,np.newaxis]+alpha*v[:,np.newaxis]\n",
    "    return mu_alph"
   ]
  },
  {
   "cell_type": "code",
   "execution_count": 11,
   "id": "63903620-b7f1-4e0a-8e5b-ed1f68e8ac8b",
   "metadata": {
    "tags": []
   },
   "outputs": [],
   "source": [
    "def log_likelihood(data,alpha):\n",
    "    logl=-0.5*np.einsum(\"ijk,jm,imk->ik\",data-model(alpha),np.linalg.pinv(Cov),(data-model(alpha)))-0.5*np.log(2*np.pi*np.linalg.det(Cov))\n",
    "    #i: 1000 universes\n",
    "    #j,m: 5 dimensions\n",
    "    #k: 300 alphas\n",
    "    return logl\n",
    "def logprior(alpha):\n",
    "    if len(alpha)>1:\n",
    "        prior=np.zeros(alpha.shape)-np.log(alpha_range)\n",
    "        sel=np.abs(alpha)>alpha_range/2\n",
    "        prior[sel]=-np.inf\n",
    "    else:\n",
    "        if np.abs(alpha)>alpha_range/2:\n",
    "            return -np.inf\n",
    "        else:\n",
    "            prior=-np.log(alpha_range)\n",
    "    return prior"
   ]
  },
  {
   "cell_type": "code",
   "execution_count": 12,
   "id": "aa54f46d-f439-483b-9b98-4fa156344e19",
   "metadata": {
    "tags": []
   },
   "outputs": [],
   "source": [
    "def log_posterior_prob(data,alpha):\n",
    "    return log_likelihood(data,alpha)+logprior(alpha)"
   ]
  },
  {
   "cell_type": "code",
   "execution_count": 13,
   "id": "092f51e4-5505-41ec-8454-2cd77891efbf",
   "metadata": {
    "tags": []
   },
   "outputs": [],
   "source": [
    "alpha_arr=np.linspace(-1,1,500)"
   ]
  },
  {
   "cell_type": "code",
   "execution_count": 14,
   "id": "1a7bfb27-5cd8-488d-9570-303a13f76fd9",
   "metadata": {
    "tags": []
   },
   "outputs": [
    {
     "data": {
      "text/plain": [
       "(100000, 5)"
      ]
     },
     "execution_count": 14,
     "metadata": {},
     "output_type": "execute_result"
    }
   ],
   "source": [
    "universes.shape"
   ]
  },
  {
   "cell_type": "code",
   "execution_count": 15,
   "id": "342b4cfc-5f92-4e73-828b-64b736a626d6",
   "metadata": {
    "tags": []
   },
   "outputs": [],
   "source": [
    "post=log_posterior_prob(universes[:,:,np.newaxis],alpha_arr)"
   ]
  },
  {
   "cell_type": "code",
   "execution_count": 16,
   "id": "5b00c142-443d-49fb-b9b1-d6d8192fbd81",
   "metadata": {
    "tags": []
   },
   "outputs": [
    {
     "data": {
      "text/plain": [
       "(100000, 500)"
      ]
     },
     "execution_count": 16,
     "metadata": {},
     "output_type": "execute_result"
    }
   ],
   "source": [
    "post.shape"
   ]
  },
  {
   "cell_type": "code",
   "execution_count": 17,
   "id": "6617af6d-b226-473f-a461-7c2dafe1002b",
   "metadata": {
    "tags": []
   },
   "outputs": [
    {
     "data": {
      "text/plain": [
       "Text(0, 0.5, '$P(\\\\alpha|{\\\\bf d})$')"
      ]
     },
     "execution_count": 17,
     "metadata": {},
     "output_type": "execute_result"
    },
    {
     "data": {
      "image/png": "[encoded data removed]",
      "text/plain": [
       "<Figure size 640x480 with 1 Axes>"
      ]
     },
     "metadata": {},
     "output_type": "display_data"
    }
   ],
   "source": [
    "for i in range(10):\n",
    "    plt.plot(alpha_arr,np.exp(post[i]))\n",
    "plt.xlabel(r'$\\alpha$')\n",
    "plt.ylabel(r'$P(\\alpha|{\\bf d})$')"
   ]
  },
  {
   "cell_type": "code",
   "execution_count": 18,
   "id": "f222fbdb-c1aa-4e19-ac94-89f66f6aca60",
   "metadata": {
    "tags": []
   },
   "outputs": [],
   "source": [
    "def get_conf_int(p,grid):\n",
    "    sel_finite=np.isfinite(p)\n",
    "    p=p[sel_finite]\n",
    "    grid=grid[sel_finite]\n",
    "    argsort_post=np.argsort(p)   #sort by posterior probability, makes evaluation easier\n",
    "    cumsum=np.cumsum(p[argsort_post])/np.sum(p)   #for this part actually a normalization that normalizes the sum of all evaluated probabilities to 1 is more suitable\n",
    "    in_confidence_region = cumsum>=1-0.683 #this discards the lowest posterior probability points until a total of 31.7% of the probability is reached\n",
    "    return np.min(grid[argsort_post[in_confidence_region]]),np.max(grid[argsort_post[in_confidence_region]])"
   ]
  },
  {
   "cell_type": "code",
   "execution_count": null,
   "id": "be4f800d-9e2c-476d-9c47-6d6ae0cc900c",
   "metadata": {
    "tags": []
   },
   "outputs": [],
   "source": [
    "ranges=np.array([get_conf_int(np.exp(p),alpha_arr) for p in post])"
   ]
  },
  {
   "cell_type": "code",
   "execution_count": null,
   "id": "8b231f92-b9fd-4486-b311-12a24f991ecd",
   "metadata": {
    "tags": []
   },
   "outputs": [],
   "source": [
    "truth_in_range_frac=np.sum((ranges[:,1]>=0)&(ranges[:,0]<=0))/nuniverses"
   ]
  },
  {
   "cell_type": "code",
   "execution_count": null,
   "id": "23809057-a488-4440-a63d-9cf5a29ea098",
   "metadata": {
    "tags": []
   },
   "outputs": [],
   "source": [
    "print(f\"{truth_in_range_frac*100:.1f}% of the measurements give the true alpha in the 68.3% range\")"
   ]
  },
  {
   "cell_type": "code",
   "execution_count": null,
   "id": "279461b9-9064-482b-9c89-6714e0d73a9d",
   "metadata": {},
   "outputs": [],
   "source": []
  }
 ],
 "metadata": {
  "kernelspec": {
   "display_name": "Python 3 (ipykernel)",
   "language": "python",
   "name": "python3"
  },
  "language_info": {
   "codemirror_mode": {
    "name": "ipython",
    "version": 3
   },
   "file_extension": ".py",
   "mimetype": "text/x-python",
   "name": "python",
   "nbconvert_exporter": "python",
   "pygments_lexer": "ipython3",
   "version": "3.11.5"
  }
 },
 "nbformat": 4,
 "nbformat_minor": 5
}

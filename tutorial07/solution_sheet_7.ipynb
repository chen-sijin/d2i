{
 "cells": [
  {
   "cell_type": "code",
   "execution_count": 252,
   "id": "41726ceb-a8a1-4151-9de4-7f66f303ebb1",
   "metadata": {
    "tags": []
   },
   "outputs": [],
   "source": [
    "import numpy as np\n",
    "import matplotlib.pyplot as plt\n",
    "import emcee"
   ]
  },
  {
   "cell_type": "markdown",
   "id": "a77e0530-c98b-4cc2-9b6c-d791cd712ac5",
   "metadata": {},
   "source": [
    "# Calculating Evidence and Posterior with pen and paper (only cross checking the solution here)"
   ]
  },
  {
   "cell_type": "code",
   "execution_count": 253,
   "id": "7ecda1f7-6585-4998-8104-e8c415d632b5",
   "metadata": {
    "tags": []
   },
   "outputs": [],
   "source": [
    "d=np.array([3,1])\n",
    "C=np.diag([2,2])\n",
    "Cinv=np.linalg.inv(C)\n",
    "detC=np.linalg.det(C)"
   ]
  },
  {
   "cell_type": "code",
   "execution_count": 254,
   "id": "c5023127-2273-4bfb-9030-df9e3575d46f",
   "metadata": {
    "tags": []
   },
   "outputs": [],
   "source": [
    "L=lambda alpha: 1/(2*np.pi*np.sqrt(detC))*np.exp(-0.5*(d-np.array([alpha,alpha]))@(Cinv)@((d-np.array([alpha,alpha]))))"
   ]
  },
  {
   "cell_type": "code",
   "execution_count": 255,
   "id": "ab19c745-53dc-4214-b1b8-a35433726d62",
   "metadata": {
    "tags": []
   },
   "outputs": [
    {
     "data": {
      "text/plain": [
       "0.01566973323062664"
      ]
     },
     "execution_count": 255,
     "metadata": {},
     "output_type": "execute_result"
    }
   ],
   "source": [
    "L(0.5)"
   ]
  },
  {
   "cell_type": "code",
   "execution_count": 256,
   "id": "b7f71d7d-3e3d-4072-bdee-e3c5a5931a2e",
   "metadata": {
    "tags": []
   },
   "outputs": [],
   "source": [
    "alpha_min=-100\n",
    "alpha_max=100\n",
    "prior_factor=1/(alpha_max-alpha_min)\n",
    "prior=lambda alpha: (prior_factor if alpha_min<alpha<alpha_max else 0)"
   ]
  },
  {
   "cell_type": "code",
   "execution_count": 257,
   "id": "c75daccb-1361-4f9f-bc6a-1cb8ed20ffb9",
   "metadata": {
    "tags": []
   },
   "outputs": [],
   "source": [
    "unnorm_posterior=lambda alpha: prior(alpha)*L(alpha)"
   ]
  },
  {
   "cell_type": "code",
   "execution_count": 258,
   "id": "258bbdc5-4169-4dc6-885b-1324601eb497",
   "metadata": {
    "tags": []
   },
   "outputs": [],
   "source": [
    "import scipy.integrate"
   ]
  },
  {
   "cell_type": "code",
   "execution_count": 259,
   "id": "28030728-5ba2-4f6c-9d99-09822b234191",
   "metadata": {
    "tags": []
   },
   "outputs": [],
   "source": [
    "evidence=scipy.integrate.quad(unnorm_posterior,alpha_min,alpha_max)"
   ]
  },
  {
   "cell_type": "code",
   "execution_count": 260,
   "id": "1604e702-ee8b-4d4b-957e-bfb77b8767db",
   "metadata": {
    "tags": []
   },
   "outputs": [],
   "source": [
    "norm_posterior_in_prior=lambda alpha: prior_factor*L(alpha)/evidence[0]"
   ]
  },
  {
   "cell_type": "code",
   "execution_count": 261,
   "id": "a2571d27-13ea-411c-b128-84abc485a029",
   "metadata": {
    "tags": []
   },
   "outputs": [
    {
     "data": {
      "text/plain": [
       "(0.0006049268112978593, 6.491211952273402e-11)"
      ]
     },
     "execution_count": 261,
     "metadata": {},
     "output_type": "execute_result"
    }
   ],
   "source": [
    "evidence"
   ]
  },
  {
   "cell_type": "code",
   "execution_count": 262,
   "id": "a230d1a2-e221-49d7-b40e-a275a9055f5c",
   "metadata": {
    "tags": []
   },
   "outputs": [],
   "source": [
    "ev_anal=1/(alpha_max-alpha_min)/np.sqrt(np.pi)/2/np.sqrt(C[0,0])*np.exp(-(d[0]-d[1])**2/4/C[0,0])"
   ]
  },
  {
   "cell_type": "code",
   "execution_count": 263,
   "id": "9fd5213f-53ed-4f0b-a2ba-7a30e186c389",
   "metadata": {
    "tags": []
   },
   "outputs": [
    {
     "data": {
      "text/plain": [
       "1.0000000000000013"
      ]
     },
     "execution_count": 263,
     "metadata": {},
     "output_type": "execute_result"
    }
   ],
   "source": [
    "evidence[0]/ev_anal"
   ]
  },
  {
   "cell_type": "code",
   "execution_count": 264,
   "id": "7e35ebb5-980d-465a-ac28-c8e3ef1b5e10",
   "metadata": {
    "tags": []
   },
   "outputs": [],
   "source": [
    "alpha_arr=np.linspace(0,6,100000)"
   ]
  },
  {
   "cell_type": "code",
   "execution_count": 265,
   "id": "6de962c6-7689-43c2-b2db-d634451e6d63",
   "metadata": {
    "tags": []
   },
   "outputs": [
    {
     "data": {
      "text/plain": [
       "[<matplotlib.lines.Line2D at 0x7fc3af922cd0>]"
      ]
     },
     "execution_count": 265,
     "metadata": {},
     "output_type": "execute_result"
    },
    {
     "data": {
      "image/png": "[encoded data removed]",
      "text/plain": [
       "<Figure size 640x480 with 1 Axes>"
      ]
     },
     "metadata": {},
     "output_type": "display_data"
    }
   ],
   "source": [
    "plt.plot(alpha_arr,[norm_posterior_in_prior(alpha) for alpha in alpha_arr])"
   ]
  },
  {
   "cell_type": "code",
   "execution_count": 285,
   "id": "96d5bb0e-3bd7-49a9-8157-f7be07e1f13c",
   "metadata": {
    "tags": []
   },
   "outputs": [],
   "source": [
    "mean=scipy.integrate.quad(lambda x: x*norm_posterior_in_prior(x),alpha_min,alpha_max)"
   ]
  },
  {
   "cell_type": "code",
   "execution_count": 286,
   "id": "2066dc6b-b76a-4cb9-96b9-293bb61e0267",
   "metadata": {
    "tags": []
   },
   "outputs": [],
   "source": [
    "var=scipy.integrate.quad(lambda x: (x-mean[0])**2*norm_posterior_in_prior(x),alpha_min,alpha_max)"
   ]
  },
  {
   "cell_type": "code",
   "execution_count": 287,
   "id": "afe76c58-bc32-4907-9705-93d56527f340",
   "metadata": {
    "tags": []
   },
   "outputs": [
    {
     "data": {
      "text/plain": [
       "(1.9999999999999973, 1.921807439748957e-13)"
      ]
     },
     "execution_count": 287,
     "metadata": {},
     "output_type": "execute_result"
    }
   ],
   "source": [
    "mean"
   ]
  },
  {
   "cell_type": "code",
   "execution_count": 288,
   "id": "fad03ad2-3a46-4c0a-9637-e18580919f5f",
   "metadata": {
    "tags": []
   },
   "outputs": [],
   "source": [
    "std=np.sqrt(var[0])"
   ]
  },
  {
   "cell_type": "code",
   "execution_count": 289,
   "id": "d551e29e-3dda-44b1-a520-85319bdc4abc",
   "metadata": {
    "tags": []
   },
   "outputs": [
    {
     "data": {
      "text/plain": [
       "0.9999999999999993"
      ]
     },
     "execution_count": 289,
     "metadata": {},
     "output_type": "execute_result"
    }
   ],
   "source": [
    "std"
   ]
  },
  {
   "cell_type": "markdown",
   "id": "a3936474-277f-46b2-9517-ad62c9f7c1bb",
   "metadata": {},
   "source": [
    "#  Distribution of best-fit $χ^2$"
   ]
  },
  {
   "cell_type": "markdown",
   "id": "3cc110e5-7587-4caf-b0d3-edbfa724f85e",
   "metadata": {},
   "source": [
    "## for the non-linear model in (11)"
   ]
  },
  {
   "cell_type": "code",
   "execution_count": 114,
   "id": "9f1a75d7-30b3-4de7-887d-8c6b9260cbdc",
   "metadata": {
    "tags": []
   },
   "outputs": [],
   "source": [
    "import numpy as np\n",
    "import matplotlib.pyplot as plt\n",
    "import emcee\n",
    "import scipy.stats as scistats\n",
    "chi2dist=scistats.chi2"
   ]
  },
  {
   "cell_type": "code",
   "execution_count": 115,
   "id": "b9c0aeff-7157-4187-afa0-2c7849c30600",
   "metadata": {
    "tags": []
   },
   "outputs": [],
   "source": [
    "rng=np.random.default_rng(12345)"
   ]
  },
  {
   "cell_type": "code",
   "execution_count": 116,
   "id": "a24e6a28-9d7a-4824-a37d-7402b99c03bc",
   "metadata": {},
   "outputs": [],
   "source": [
    "C=np.diag([25,25])\n",
    "Cinv=np.linalg.inv(C)"
   ]
  },
  {
   "cell_type": "code",
   "execution_count": 117,
   "id": "b093f55d-6660-4e50-8cfb-40373c1ffa76",
   "metadata": {},
   "outputs": [],
   "source": [
    "mu=lambda alpha: np.array([alpha,alpha**2])"
   ]
  },
  {
   "cell_type": "code",
   "execution_count": 118,
   "id": "f36bc7e8-cdaa-4ae0-9e83-ad519aee9f7c",
   "metadata": {
    "tags": []
   },
   "outputs": [],
   "source": [
    "alpha_true=0"
   ]
  },
  {
   "cell_type": "code",
   "execution_count": 119,
   "id": "e2ba2b81-37bd-404c-a1a9-47d629299e24",
   "metadata": {
    "tags": []
   },
   "outputs": [],
   "source": [
    "data=rng.multivariate_normal(mu(alpha_true),C,size=100000)"
   ]
  },
  {
   "cell_type": "code",
   "execution_count": 120,
   "id": "b06c1408-a20d-40a6-ba5b-b554b0806d61",
   "metadata": {
    "tags": []
   },
   "outputs": [
    {
     "data": {
      "text/plain": [
       "(100000, 2)"
      ]
     },
     "execution_count": 120,
     "metadata": {},
     "output_type": "execute_result"
    }
   ],
   "source": [
    "data.shape"
   ]
  },
  {
   "cell_type": "code",
   "execution_count": 121,
   "id": "18a3684d-f06b-4a11-a6ec-8982aeb294c2",
   "metadata": {
    "tags": []
   },
   "outputs": [],
   "source": [
    "chi2=lambda alpha: np.einsum('ijm,jk,ikm->im',data[...,np.newaxis]-mu(alpha)[np.newaxis,...],Cinv,data[...,np.newaxis]-mu(alpha)[np.newaxis,...]) #i: spectrum, jk: covar, m:model par"
   ]
  },
  {
   "cell_type": "code",
   "execution_count": 122,
   "id": "2c59d8a4-529d-4c43-adbf-5ef881cbc3fd",
   "metadata": {
    "tags": []
   },
   "outputs": [],
   "source": [
    "alpha_arr=np.linspace(-10,10,1000)"
   ]
  },
  {
   "cell_type": "code",
   "execution_count": 123,
   "id": "33999bf6-e5a2-4fa9-b2ec-5595d8c8e580",
   "metadata": {
    "tags": []
   },
   "outputs": [],
   "source": [
    "chi2surfaces=chi2(alpha_arr)"
   ]
  },
  {
   "cell_type": "code",
   "execution_count": 124,
   "id": "22da5991-2c41-48df-867c-9780645bfa59",
   "metadata": {
    "tags": []
   },
   "outputs": [
    {
     "data": {
      "text/plain": [
       "(100000, 1000)"
      ]
     },
     "execution_count": 124,
     "metadata": {},
     "output_type": "execute_result"
    }
   ],
   "source": [
    "chi2surfaces.shape"
   ]
  },
  {
   "cell_type": "code",
   "execution_count": 125,
   "id": "cc456b49-df86-413c-a133-0f4f52b32fe7",
   "metadata": {
    "tags": []
   },
   "outputs": [],
   "source": [
    "bestfit_chi2s=np.min(chi2surfaces,axis=1)"
   ]
  },
  {
   "cell_type": "code",
   "execution_count": 126,
   "id": "af925247-16e2-43ac-b60b-5215ae7d7df9",
   "metadata": {
    "tags": []
   },
   "outputs": [
    {
     "data": {
      "text/plain": [
       "array([8.18032042e-01, 6.53874274e-01, 5.53921127e-01, ...,\n",
       "       3.77204624e-04, 1.14780426e-03, 1.79113483e-01])"
      ]
     },
     "execution_count": 126,
     "metadata": {},
     "output_type": "execute_result"
    }
   ],
   "source": [
    "bestfit_chi2s"
   ]
  },
  {
   "cell_type": "code",
   "execution_count": 127,
   "id": "5cdbe4b9-7edd-42f8-bcd3-3eb2805bc908",
   "metadata": {
    "tags": []
   },
   "outputs": [
    {
     "data": {
      "text/plain": [
       "1.1972613821572098"
      ]
     },
     "execution_count": 127,
     "metadata": {},
     "output_type": "execute_result"
    }
   ],
   "source": [
    "np.mean(bestfit_chi2s)"
   ]
  },
  {
   "cell_type": "code",
   "execution_count": 128,
   "id": "9c83e6d7-3664-4423-bc5a-657260c02001",
   "metadata": {
    "tags": []
   },
   "outputs": [
    {
     "data": {
      "text/plain": [
       "(0.0, 4.0)"
      ]
     },
     "execution_count": 128,
     "metadata": {},
     "output_type": "execute_result"
    },
    {
     "data": {
      "image/png": "[encoded data removed]",
      "text/plain": [
       "<Figure size 640x480 with 1 Axes>"
      ]
     },
     "metadata": {},
     "output_type": "display_data"
    }
   ],
   "source": [
    "plt.hist(bestfit_chi2s,density=True,bins=np.arange(-0.025,6,0.05))\n",
    "plt.plot(np.arange(0,6,0.05),chi2dist.pdf(np.arange(0,6,0.05),1),ls='-',alpha=0.7)\n",
    "plt.ylim(0,4)"
   ]
  },
  {
   "cell_type": "markdown",
   "id": "b83ddb26-ef57-47ae-a6e7-dad0a43e8bd5",
   "metadata": {},
   "source": [
    "## for a linear model in (12)"
   ]
  },
  {
   "cell_type": "code",
   "execution_count": 129,
   "id": "ef98866e-8a4c-4db0-bc4a-c920a8455231",
   "metadata": {},
   "outputs": [],
   "source": [
    "mu=lambda alpha: np.array([alpha,alpha])"
   ]
  },
  {
   "cell_type": "code",
   "execution_count": 130,
   "id": "3cf4016d-a5c8-453e-a9d2-da094520eb22",
   "metadata": {
    "tags": []
   },
   "outputs": [],
   "source": [
    "alpha_true=0"
   ]
  },
  {
   "cell_type": "code",
   "execution_count": 131,
   "id": "9b054c38-96a7-45c7-9129-71bce553aee8",
   "metadata": {
    "tags": []
   },
   "outputs": [],
   "source": [
    "data=rng.multivariate_normal(mu(alpha_true),C,size=100000)"
   ]
  },
  {
   "cell_type": "code",
   "execution_count": 132,
   "id": "52acbccc-f0c1-4cf0-ba97-f53afe04cfa0",
   "metadata": {
    "tags": []
   },
   "outputs": [
    {
     "data": {
      "text/plain": [
       "(100000, 2)"
      ]
     },
     "execution_count": 132,
     "metadata": {},
     "output_type": "execute_result"
    }
   ],
   "source": [
    "data.shape"
   ]
  },
  {
   "cell_type": "code",
   "execution_count": 133,
   "id": "46f1550f-f62a-4a8a-b7c9-2853fdeefb09",
   "metadata": {
    "tags": []
   },
   "outputs": [],
   "source": [
    "chi2=lambda alpha: np.einsum('ijm,jk,ikm->im',data[...,np.newaxis]-mu(alpha)[np.newaxis,...],Cinv,data[...,np.newaxis]-mu(alpha)[np.newaxis,...]) #i: spectrum, jk: covar, m:model par"
   ]
  },
  {
   "cell_type": "code",
   "execution_count": 134,
   "id": "763ccc7b-f831-49e4-b9bd-e78780bf359f",
   "metadata": {
    "tags": []
   },
   "outputs": [],
   "source": [
    "alpha_arr=np.linspace(-10,10,1000)"
   ]
  },
  {
   "cell_type": "code",
   "execution_count": 135,
   "id": "19c20b2d-3bfc-452b-987c-61712c833fc3",
   "metadata": {
    "tags": []
   },
   "outputs": [],
   "source": [
    "chi2surfaces=chi2(alpha_arr)"
   ]
  },
  {
   "cell_type": "code",
   "execution_count": 136,
   "id": "7fbfd913-a198-4e03-9350-73f98ae1e337",
   "metadata": {
    "tags": []
   },
   "outputs": [
    {
     "data": {
      "text/plain": [
       "(100000, 1000)"
      ]
     },
     "execution_count": 136,
     "metadata": {},
     "output_type": "execute_result"
    }
   ],
   "source": [
    "chi2surfaces.shape"
   ]
  },
  {
   "cell_type": "code",
   "execution_count": 137,
   "id": "1cf69a78-5b8b-4989-b5f6-ba0e3b239be9",
   "metadata": {
    "tags": []
   },
   "outputs": [],
   "source": [
    "bestfit_chi2s=np.min(chi2surfaces,axis=1)"
   ]
  },
  {
   "cell_type": "code",
   "execution_count": 138,
   "id": "c194892b-e330-4f7a-9005-d14714cbdcae",
   "metadata": {
    "tags": []
   },
   "outputs": [
    {
     "data": {
      "text/plain": [
       "array([0.10051589, 0.74127279, 1.237984  , ..., 0.44305994, 0.06007401,\n",
       "       1.54652449])"
      ]
     },
     "execution_count": 138,
     "metadata": {},
     "output_type": "execute_result"
    }
   ],
   "source": [
    "bestfit_chi2s"
   ]
  },
  {
   "cell_type": "code",
   "execution_count": 139,
   "id": "9e99bd63-9ea2-4170-b501-6e1d47c61b3f",
   "metadata": {
    "tags": []
   },
   "outputs": [
    {
     "data": {
      "text/plain": [
       "0.9992324556028281"
      ]
     },
     "execution_count": 139,
     "metadata": {},
     "output_type": "execute_result"
    }
   ],
   "source": [
    "np.mean(bestfit_chi2s)"
   ]
  },
  {
   "cell_type": "code",
   "execution_count": 140,
   "id": "cf250849-3e4d-4c16-a5e1-4287155a517f",
   "metadata": {
    "tags": []
   },
   "outputs": [
    {
     "data": {
      "text/plain": [
       "(0.0, 4.0)"
      ]
     },
     "execution_count": 140,
     "metadata": {},
     "output_type": "execute_result"
    },
    {
     "data": {
      "image/png": "[encoded data removed]",
      "text/plain": [
       "<Figure size 640x480 with 1 Axes>"
      ]
     },
     "metadata": {},
     "output_type": "display_data"
    }
   ],
   "source": [
    "plt.hist(bestfit_chi2s,density=True,bins=np.arange(-0.025,6,0.05))\n",
    "plt.plot(np.arange(0,6,0.05),chi2dist.pdf(np.arange(0,6,0.05),1),ls='-',alpha=0.7)\n",
    "plt.ylim(0,4)"
   ]
  },
  {
   "cell_type": "code",
   "execution_count": null,
   "id": "2e4ddc77-ebc1-4852-a838-abe090bcbe11",
   "metadata": {},
   "outputs": [],
   "source": []
  },
  {
   "cell_type": "code",
   "execution_count": 141,
   "id": "9b8fa9b7-aeae-4d63-8233-5c65a13501a0",
   "metadata": {},
   "outputs": [],
   "source": [
    "mu=lambda alpha: np.array([alpha**2,alpha**2])"
   ]
  },
  {
   "cell_type": "code",
   "execution_count": 142,
   "id": "4b31974c-ddcf-4e43-8739-9ccd0bd0824a",
   "metadata": {
    "tags": []
   },
   "outputs": [],
   "source": [
    "alpha_true=0"
   ]
  },
  {
   "cell_type": "code",
   "execution_count": 143,
   "id": "214791c9-1575-49bf-a8fa-7511b710138d",
   "metadata": {
    "tags": []
   },
   "outputs": [],
   "source": [
    "data=rng.multivariate_normal(mu(alpha_true),C,size=100000)"
   ]
  },
  {
   "cell_type": "code",
   "execution_count": 144,
   "id": "8cf38cb7-8518-4a47-98d6-109a0f9fade3",
   "metadata": {
    "tags": []
   },
   "outputs": [
    {
     "data": {
      "text/plain": [
       "(100000, 2)"
      ]
     },
     "execution_count": 144,
     "metadata": {},
     "output_type": "execute_result"
    }
   ],
   "source": [
    "data.shape"
   ]
  },
  {
   "cell_type": "code",
   "execution_count": 145,
   "id": "09154e55-5a58-4373-91da-16018bea34b5",
   "metadata": {
    "tags": []
   },
   "outputs": [],
   "source": [
    "chi2=lambda alpha: np.einsum('ijm,jk,ikm->im',data[...,np.newaxis]-mu(alpha)[np.newaxis,...],Cinv,data[...,np.newaxis]-mu(alpha)[np.newaxis,...]) #i: spectrum, jk: covar, m:model par"
   ]
  },
  {
   "cell_type": "code",
   "execution_count": 146,
   "id": "784909cc-475e-4f35-a6d7-4d3b31d358fa",
   "metadata": {
    "tags": []
   },
   "outputs": [],
   "source": [
    "alpha_arr=np.linspace(-10,10,1000)"
   ]
  },
  {
   "cell_type": "code",
   "execution_count": 147,
   "id": "9de56fd9-5ff6-43aa-9889-2ed344a67c95",
   "metadata": {
    "tags": []
   },
   "outputs": [],
   "source": [
    "chi2surfaces=chi2(alpha_arr)"
   ]
  },
  {
   "cell_type": "code",
   "execution_count": 148,
   "id": "9c25b340-ee16-49e6-a7e3-3c58cd755b02",
   "metadata": {
    "tags": []
   },
   "outputs": [
    {
     "data": {
      "text/plain": [
       "(100000, 1000)"
      ]
     },
     "execution_count": 148,
     "metadata": {},
     "output_type": "execute_result"
    }
   ],
   "source": [
    "chi2surfaces.shape"
   ]
  },
  {
   "cell_type": "code",
   "execution_count": 149,
   "id": "3e63ab75-1b74-4645-a6e1-0d45023d5f44",
   "metadata": {
    "tags": []
   },
   "outputs": [],
   "source": [
    "bestfit_chi2s=np.min(chi2surfaces,axis=1)"
   ]
  },
  {
   "cell_type": "code",
   "execution_count": 150,
   "id": "ba52f3b3-b787-4e0b-949b-a0ae96b44583",
   "metadata": {
    "tags": []
   },
   "outputs": [
    {
     "data": {
      "text/plain": [
       "array([0.31788225, 0.04063784, 1.50068712, ..., 1.20429707, 3.49964504,\n",
       "       0.0668751 ])"
      ]
     },
     "execution_count": 150,
     "metadata": {},
     "output_type": "execute_result"
    }
   ],
   "source": [
    "bestfit_chi2s"
   ]
  },
  {
   "cell_type": "code",
   "execution_count": 151,
   "id": "daef7f66-71ca-4df8-8e5f-bddd9bee6f2e",
   "metadata": {
    "tags": []
   },
   "outputs": [
    {
     "data": {
      "text/plain": [
       "1.490670923173814"
      ]
     },
     "execution_count": 151,
     "metadata": {},
     "output_type": "execute_result"
    }
   ],
   "source": [
    "np.mean(bestfit_chi2s)"
   ]
  },
  {
   "cell_type": "code",
   "execution_count": 152,
   "id": "54af3bb2-49e0-478b-99f7-c38d24c88514",
   "metadata": {
    "tags": []
   },
   "outputs": [
    {
     "data": {
      "text/plain": [
       "(0.0, 4.0)"
      ]
     },
     "execution_count": 152,
     "metadata": {},
     "output_type": "execute_result"
    },
    {
     "data": {
      "image/png": "[encoded data removed]",
      "text/plain": [
       "<Figure size 640x480 with 1 Axes>"
      ]
     },
     "metadata": {},
     "output_type": "display_data"
    }
   ],
   "source": [
    "plt.hist(bestfit_chi2s,density=True,bins=np.arange(-0.025,6,0.05))\n",
    "plt.plot(np.arange(0,6,0.05),chi2dist.pdf(np.arange(0,6,0.05),1),ls='-',alpha=0.7)\n",
    "plt.ylim(0,4)"
   ]
  }
 ],
 "metadata": {
  "kernelspec": {
   "display_name": "Python 3 (ipykernel)",
   "language": "python",
   "name": "python3"
  },
  "language_info": {
   "codemirror_mode": {
    "name": "ipython",
    "version": 3
   },
   "file_extension": ".py",
   "mimetype": "text/x-python",
   "name": "python",
   "nbconvert_exporter": "python",
   "pygments_lexer": "ipython3",
   "version": "3.11.5"
  }
 },
 "nbformat": 4,
 "nbformat_minor": 5
}
